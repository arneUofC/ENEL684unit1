{
 "cells": [
  {
   "cell_type": "markdown",
   "metadata": {
    "slideshow": {
     "slide_type": "slide"
    }
   },
   "source": [
    "# Discrete Time\n",
    "\n",
    "Two observations:\n",
    "- Data is discrete time, i.e. we measure the signals at discrete times (sensors sample the data)\n",
    "- (so far) we have been assuming that signals and systems are continuous, i.e. we know the entire signal\n",
    "\n",
    "Is this a problem?"
   ]
  },
  {
   "cell_type": "markdown",
   "metadata": {
    "slideshow": {
     "slide_type": "slide"
    }
   },
   "source": [
    "# It is a problem, but there are solutions!\n",
    "\n",
    "1. Need to determine a new representation of signals and systems that are based on sampled data\n",
    "2. Need to determine a mapping from the new representation to the ones we already have (Laplace domain, Frequency domain)\n",
    "\n"
   ]
  },
  {
   "cell_type": "markdown",
   "metadata": {
    "slideshow": {
     "slide_type": "slide"
    }
   },
   "source": [
    "# Work Flow\n",
    "\n",
    "When using identification for monitoring:\n",
    "- Do identification in discrete time,\n",
    "- Convert model into Laplace domain to ensure model corresponds to physical parameters (such as resistances, capacitances, inductances, etc.).\n",
    "\n",
    "When using identification for control design:\n",
    "- Do identification in discrete time,\n",
    "- Design controller in discrete time,\n",
    "- Implement controller in discrete time."
   ]
  },
  {
   "cell_type": "markdown",
   "metadata": {
    "slideshow": {
     "slide_type": "slide"
    }
   },
   "source": [
    "# Z-Domain, and Z-Transform\n",
    "\n",
    "This new representation of a system is called the Z-Domain, and the way to map a signal from (discrete) time domain to the Z-Domain is called the Z-Transform.\n",
    "\n",
    "I will only give a very brief overview of the Z-Domain related to the parts that matter for us in this course."
   ]
  },
  {
   "cell_type": "markdown",
   "metadata": {
    "slideshow": {
     "slide_type": "slide"
    }
   },
   "source": [
    "# Derivation\n",
    "\n",
    "Sampled signal can be written as:\n",
    "$$\n",
    "\\begin{align*}\n",
    "y(t) &= y(0) \\delta(t) + y(T)\\delta(t-T) + y(2T)\\delta(t-2T) + \\cdots, \\\\\n",
    "&= \\sum_{k=0}^{\\infty} y(k)\\delta(t-Tk)\n",
    "\\end{align*}\n",
    "$$\n",
    "where $\\delta(t)$ is the dirac impulse which can be thought of as satisfying the following equations:\n",
    "$$\n",
    "\\delta(t) = \\begin{cases} \\infty, t=0 \\\\ 0, t\\ne 0\\end{cases}\n",
    "$$\n",
    "and\n",
    "$$\n",
    "\\int_{-\\infty}^{\\infty} \\delta(t) \\text{d}t = 1\n",
    "$$\n",
    "\n",
    "Take Laplace Transform of $y(t)$:\n",
    "$$\n",
    "\\begin{align*}\n",
    "\\mathcal{L}[y(t)] &= \\mathcal{L}[\\sum_{k=0}^{\\infty} y(k)\\delta(t-Tk)]  \\\\\n",
    "&= \\int_{-\\infty}^{\\infty} \\sum_{k=0}^{\\infty} y(k)\\delta(t-Tk) e^{-st} \\text{d}t \\\\\n",
    "&= \\sum_{k=0}^{\\infty} y(k) \\int_{-\\infty}^{\\infty} \\delta(t-Tk) e^{-st} \\text{d}t \\\\\n",
    "&= \\sum_{k=0}^{\\infty} y(k) e^{-sTk}\n",
    "\\end{align*}\n",
    "$$\n",
    "\n",
    "Now, define $z=e^{sT}$, and make substitution:\n",
    "$$\n",
    "Y(z) = \\sum_{k=0}^{\\infty} y(k) z^{-k}\n",
    "$$\n",
    "This is the definition of the Z-Transform!"
   ]
  },
  {
   "cell_type": "markdown",
   "metadata": {
    "slideshow": {
     "slide_type": "slide"
    }
   },
   "source": [
    "# Observations\n",
    "\n",
    "- We can handle discrete time data in Laplace Domain\n",
    "- Z-transform is really just a notational simplification"
   ]
  },
  {
   "cell_type": "markdown",
   "metadata": {
    "slideshow": {
     "slide_type": "slide"
    }
   },
   "source": [
    "# Discrete-Time Systems\n",
    "\n",
    "$$\n",
    "Y(z) = G(z)U(z)\n",
    "$$\n",
    "where\n",
    "- $U(z)$, $Y(z)$ are discrete time signals\n",
    "- $G(z)$ is the mapping (transfer function) between those signals\n"
   ]
  },
  {
   "cell_type": "markdown",
   "metadata": {
    "slideshow": {
     "slide_type": "slide"
    }
   },
   "source": [
    "# Consider the Z-Transform of a Decaying Exponential\n",
    "\n",
    "Let $x(k) = a^{-k}$, where $|a|< 1$. \n",
    "\n",
    "Then the Z-transform of $x(k)$ is:\n",
    "\n",
    "$$\n",
    "\\begin{align*}\n",
    "\\mathcal{Z}[x(k)] &= \\mathcal{Z}[ a^{k} ] \\\\\n",
    "&= \\sum_{k=0}^{\\infty} a^{k}  z^{-k} \\\\\n",
    "&= \\sum_{k=0}^{\\infty} (az^{-1})^{k} \\\\\n",
    "&= \\frac{1}{1-az^{-1}}\n",
    "\\end{align*}\n",
    "$$\n",
    "\n",
    "Note that if $x(k)$ is an impulse response of a system, then we have the exact same interpretation of a pole."
   ]
  },
  {
   "cell_type": "markdown",
   "metadata": {
    "slideshow": {
     "slide_type": "slide"
    }
   },
   "source": [
    "# Some Properties of Z-Transform - Delays\n",
    "\n",
    "Let's determine the effect of a delay in Z-Domain.\n",
    "\n",
    "Consider the sampled signal:\n",
    "$$\n",
    "y(t) = \\sum_{k=0}^{\\infty} y(k)\\delta(t-kT).\n",
    "$$\n",
    "\n",
    "Now, consider the signal $y(t-T)$ (i.e., $y(t)$ has been delayed by one sample period):\n",
    "$$\n",
    "\\begin{align*}\n",
    "\\mathcal{L}[y(t-T)] &= \\mathcal{L}[ \\sum_{k=0}^{\\infty} y(k)\\delta(t-kT) ] \\\\\n",
    "&= \\int_{-\\infty}^{\\infty}  \\sum_{k=0}^{\\infty} y(k)\\delta(t-kT) e^{-st} \\text{d}t \\\\\n",
    "&= \\sum_{k=0}^{\\infty} y(k) e^{-s(k-1)T} \\\\\n",
    "&= \\sum_{k=0}^{\\infty} y(k) z^{k-1} \\\\\n",
    "&= Y(z)z^{-1}\n",
    "\\end{align*}\n",
    "$$\n",
    "\n",
    "Conclusion: multiplying a singal by $z^{-k}$ is equivalent to delaying the signal in time-domain.\n"
   ]
  },
  {
   "cell_type": "markdown",
   "metadata": {
    "slideshow": {
     "slide_type": "slide"
    }
   },
   "source": [
    "# Z-Transform Table\n",
    "\n",
    "On wikipedia there is a whole table of Z-transform pairs and properties of the Z-transform"
   ]
  },
  {
   "cell_type": "markdown",
   "metadata": {
    "slideshow": {
     "slide_type": "slide"
    }
   },
   "source": [
    "# Discrete-Time Transfer functions\n",
    "\n",
    "Let $u(k)$ and $y(k)$ be discrete time signals where:\n",
    "$$\n",
    "Y(z) = G(z)U(z).\n",
    "$$\n",
    "Then the $G(z)$ has the form:\n",
    "$$\n",
    "\\begin{align*}\n",
    "G(z) &= \\frac{b_0 + b_1z^{-1} + b_2 z^{-2} + \\cdots}{1 + a_1z^{-1}+ a_2z^{-2}+ \\cdots} \\\\\n",
    "&= \\frac{b_0(1-c_1 z^{-1})(1-c_2z^{-1})\\cdots}{(1-p_1 z^{-1})(1-p_2z^{-1})},\n",
    "\\end{align*}\n",
    "$$\n",
    "where $c_1$, $c_2$, $\\ldots$ are the zeros of the transfer function, and $p_1$, $p_2$, $\\ldots$ are the poles of the transfer function. \n",
    "\n"
   ]
  },
  {
   "cell_type": "markdown",
   "metadata": {
    "slideshow": {
     "slide_type": "slide"
    }
   },
   "source": [
    "# Z-plane (discrete time equivalent of S-plane)\n",
    "\n",
    "We have determined that to map a continuous time transfer function to a discrete time transfer function, we just need to substitute $z=e^{-sT}$. \n",
    "\n",
    "Let's apply this mapping to the s-plane:\n",
    "\n",
    "imaginary axis maps to unit circle."
   ]
  },
  {
   "cell_type": "markdown",
   "metadata": {
    "slideshow": {
     "slide_type": "slide"
    }
   },
   "source": [
    "# Difference Equations (instead of Differential Equations)\n",
    "\n",
    "In continuous time, transfer functions map to differential equations:\n",
    "$$\n",
    "\\begin{align*}\n",
    "Y(s) &= \\frac{b_0s + b_1}{s + a_1} U(s) \\\\\n",
    "Y(s)(s + a_1) &= U(s)(b_0s + b_1) \\\\\n",
    "\\frac{\\text{d}y(t)}{\\text{dt}} + a_1y(t) &= b_0 \\frac{\\text{d}u(t)}{\\text{dt}} + b_1u(t)\n",
    "\\end{align*}\n",
    "$$\n",
    "\n",
    "In discrete time, transfer functions map to difference equations:\n",
    "$$\n",
    "\\begin{align*}\n",
    "Y(z) &= \\frac{b_0 + b_1z^{-1}}{1 + a_1z^{-1}} U(z) \\\\\n",
    "Y(z)(1 + a_1z^{-1}) &= U(z)(b_0 + b_1z^{-1}) \\\\\n",
    "y(k) + a_1 y(k-1)  &= b_0 u(k) + b_1u(k-1)\n",
    "\\end{align*}\n",
    "$$\n",
    "\n",
    "In discrete time, cannot take a time-derivative of a signal. But can approximate the time-derivative with a difference equation. \n",
    "\n",
    "Thus, from a system identification point of view, the main equations we will be working with are difference equations. \n"
   ]
  },
  {
   "cell_type": "markdown",
   "metadata": {
    "slideshow": {
     "slide_type": "slide"
    }
   },
   "source": [
    "# So far everything seems great!\n",
    "\n",
    "But this is a slight issue...\n",
    "\n",
    "If we have a discrete-time transfer function, and we wish to convert it into a continous time transfer function, we just substitute $z=e^{sT}$ right?\n",
    "\n",
    "However, we expect that if $G(z)$ was a rational function, then $G(s)$ should also be a rational function.\n",
    "This is not the case. Consider:\n",
    "\n",
    "$$\n",
    "G(s)= \\frac{s+1}{s^2 + 2s + 2}\n",
    "$$\n",
    "\n",
    "Then, after substituting $z=e^{sT}$, or $s = \\frac{\\ln z}{z}$:\n",
    "\n",
    "$$\n",
    "G(z) = \\frac{\\frac{\\ln z}{z}+1}{(\\frac{\\ln z}{z})^2+ 2\\frac{\\ln z}{z}+2}\n",
    "$$\n",
    "\n",
    "This is not a nice transfer function!\n",
    "\n",
    "So, instead we can approximate $e^{sT}$ as a rational function.\n",
    "\n",
    "\n"
   ]
  },
  {
   "cell_type": "markdown",
   "metadata": {
    "slideshow": {
     "slide_type": "slide"
    }
   },
   "source": [
    "# Bilinear Transform\n",
    "\n",
    "There are many ways to approximate a function. Two of them are Taylor series expansion, and Pade series expansion.\n",
    "\n",
    "Taylor series:\n",
    "$$\n",
    "\\begin{align*}\n",
    "e^{x} &= \\sum_{k=0}^{\\infty} \\frac{x^k}{k!} \\\\\n",
    "&=1 +x + \\frac{x^2}{2} + \\cdots\n",
    "\\end{align*}\n",
    "$$\n",
    "Then a first order approximation would be:\n",
    "$$\n",
    "e^{sT} \\approx 1 + sT\n",
    "$$\n",
    "\n",
    "Or, slightly better, use Pade series expansion:\n",
    "$$\n",
    "\\begin{align*}\n",
    "e^{sT} &= \\frac{1 + s\\frac{T}{2} + \\frac{(s\\frac{T}{2})^2}{2}+\\cdots}{1 - s\\frac{T}{2} + \\frac{(s\\frac{T}{2})^2}{2}+\\cdots} \\\\\n",
    "&\\approx \\frac{1 + s\\frac{T}{2} }{1 - s\\frac{T}{2} } \n",
    "\\end{align*}\n",
    "$$\n",
    "This is called the Bilinear Transform. In this approach, we let\n",
    "$$\n",
    "z=\\frac{1 + s\\frac{T}{2} }{1 - s\\frac{T}{2} }\n",
    "$$\n",
    "\n",
    "Equivalently, if we want to convert a continuous-time transfer function to a discrete time transfer function, we let:\n",
    "$$\n",
    "s=\\frac{2}{T}\\frac{z-1}{z+1}\n",
    "$$"
   ]
  },
  {
   "cell_type": "markdown",
   "metadata": {},
   "source": [
    "# Interpretation Using Approximate Integration\n"
   ]
  },
  {
   "cell_type": "markdown",
   "metadata": {
    "slideshow": {
     "slide_type": "slide"
    }
   },
   "source": [
    "# What About the Actuators?\n",
    "\n",
    "Controller is in discrete time, sends a sequence of numbers (evenly spaced in time) to the actuator, i.e. the controller updates its output every $T$ seconds.\n",
    "\n",
    "A common feature for an actuator is to hold that number constant during the time interval between updates.\n",
    "\n",
    "Called Zero-Order-Hold\n",
    "\n",
    "\n",
    "\n",
    "\n"
   ]
  },
  {
   "cell_type": "markdown",
   "metadata": {},
   "source": [
    "# Representing Zero-Order-Hold Mathematically\n",
    "\n",
    "Consider a digital control output $u_k$, $k=0,1,\\ldots$.\n",
    "\n",
    "In continuous time, after the zero-order-hold we have:\n",
    "$$\n",
    "\\begin{align*}\n",
    "u(t) &= \\sum_{k=0}^{\\infty} u_k \\Big( 1(t-kT) - 1(t-(k+1)T) \\Big) \n",
    "\\end{align*}\n",
    "$$\n",
    "Recall the following Laplace Transforms:\n",
    "$$\n",
    "\\begin{align*}\n",
    "\\mathcal{L}[ 1(t)] &= \\frac{1}{s}\\\\\n",
    "\\mathcal{L}[ x(t-T)] &= e^{-Ts}X(s)\n",
    "\\end{align*}\n",
    "$$\n",
    "So taking the Laplace transform of the plant input:\n",
    "$$\n",
    "\\begin{align*}\n",
    "\\mathcal{L}[u(t)] &= \\mathcal{L}[\\sum_{k=0}^{\\infty} u_k \\Big( 1(t-kT) - 1(t-(k+1)T) \\Big) ] \\\\\n",
    "U(s) &=  \\sum_{k=0}^{\\infty} u_k \\Bigg( \\frac{e^{-ksT}}{s} - \\frac{e^{-(k+1)sT}}{s} \\Bigg) \\\\\n",
    "&= \\sum_{k=0}^{\\infty} u_k e^{-ksT} \\frac{1-e^{-sT}}{s} \n",
    "\\end{align*}\n",
    "$$\n",
    "The output of the plant can be expressed as:\n",
    "$$\n",
    "\\begin{align*}\n",
    "Y(s) &= G(s)U(s) \\\\\n",
    "&= G(s)\\sum_{k=0}^{\\infty} u_k e^{-ksT} \\frac{1-e^{-sT}}{s} \n",
    "\\end{align*}\n",
    "$$\n",
    "Substitute expression for $z=e^{sT}$:\n",
    "$$\n",
    "\\begin{align*}\n",
    "Y(s) &= \\sum_{k=0}^{\\infty} u_k z^{-k} \\frac{1-z^{-1}}{s} G(s) \\\\\n",
    "&= G(s) \\frac{1-z^{-1}}{s}U(z)\n",
    "\\end{align*}\n",
    "$$\n",
    "Take Laplace of both sides:\n",
    "$$\n",
    "\\begin{align*}\n",
    "\\mathcal{Z}[Y(s)] &= (1-z^{-1})\\mathcal{Z}\\Bigg[\\frac{G(s)}{s}\\Bigg]_{t=kT}U(z) \\\\\n",
    "Y(z) &= (1-z^{-1})\\mathcal{Z}\\Bigg[\\frac{G(s)}{s}\\Bigg]_{t=kT} U(z)\n",
    "\\end{align*}\n",
    "$$\n",
    "\n",
    "This means that if we directly identify a transfer function from discrete input data to discrete output data, and the actuator is equiped with a zero-order-hold circuit, then the estimated discrete time transfer function will have a factor $(1-z^{-1})$ in the numerator, and the estimated continuous time transfer function will have an extra factor $\\frac{1}{s}$. \n",
    "\n"
   ]
  },
  {
   "cell_type": "markdown",
   "metadata": {},
   "source": [
    "# Example\n",
    "\n",
    "Consider a plant $G(s)= \\frac{1}{s+0.5}$. Suppose that the actuator is driven by a Zero-Order-Hold analog to digital converter. Suppose that the output is sampled. What is the discrete-time representation of this setup?\n",
    "\n",
    "From the equation, first need to calculate $\\mathcal{Z}[\\frac{G(s)}{s}]_{t=kT}$. Start with taking inverse Laplace transform:\n",
    "$$\n",
    "\\begin{align*}\n",
    "\\mathcal{L}^{-1}[\\frac{G(s)}{s}] &= \\mathcal{L}^{-1}[\\frac{1}{s(s+0.5)}] \\\\\n",
    "&= \\mathcal{L}^{-1}[ \\frac{A}{s} + \\frac{B}{s+0.5}] \n",
    "\\end{align*}\n",
    "$$\n",
    "Solve for $A$ and $B$:\n",
    "$$\n",
    "\\begin{align*}\n",
    "\\mathcal{L}^{-1}[\\frac{G(s)}{s}] &= \\mathcal{L}^{-1}[ \\frac{2}{s} + \\frac{-2}{s+0.5}] \\\\\n",
    "&= 21(t) -2e^{-0.5t}1(t)\n",
    "\\end{align*}\n",
    "$$\n",
    "Now, we need to calculate $\\mathcal{Z}[\\frac{G(s)}{s}]_{t=kT}$, so substitute $t=kT$ and take Z-transform:\n",
    "$$\n",
    "\\begin{align*}\n",
    "\\mathcal{Z}[\\frac{G(s)}{s}]_{t=kT} &= \\mathcal{Z}[21(t) -2e^{-0.5t}1(t)]_{t=kT} \\\\\n",
    "&= \\mathcal{Z}[ 21(kT) - 2e^{-0.5Tk}1(kT) ] \\\\\n",
    "&= \\mathcal{Z}[ 21(kT) - 2(e^{-0.5T})^k1(kT) ] \\\\\n",
    "&= \\frac{2}{1-z^{-1}} - \\frac{2}{1-e^{-0.5T}z^{-1}} \\\\\n",
    "&= \\frac{2(1-e^{-0.5T})z^{-1}}{(1-z^{-1})(1-e^{-0.5T}z^{-1})}\n",
    "\\end{align*}\n",
    "$$\n",
    "Now we can determine the final discrete time transfer function:\n",
    "$$\n",
    "\\begin{align*}\n",
    "G(z) &= (1-z^{-1})\\mathcal{Z}\\Bigg[\\frac{G(s)}{s}\\Bigg]_{t=kT}\\\\\n",
    "&= (1-z^{-1}) \\frac{2(1-e^{-0.5T})z^{-1}}{(1-z^{-1})(1-e^{-0.5T}z^{-1})} \\\\\n",
    "&=  \\frac{2(1-e^{-0.5T})z^{-1}}{1-e^{-0.5T}z^{-1}} \n",
    "\\end{align*}\n",
    "$$\n",
    "\n"
   ]
  },
  {
   "cell_type": "markdown",
   "metadata": {},
   "source": []
  }
 ],
 "metadata": {
  "celltoolbar": "Slideshow",
  "kernelspec": {
   "display_name": "Python 3 (ipykernel)",
   "language": "python",
   "name": "python3"
  },
  "language_info": {
   "codemirror_mode": {
    "name": "ipython",
    "version": 3
   },
   "file_extension": ".py",
   "mimetype": "text/x-python",
   "name": "python",
   "nbconvert_exporter": "python",
   "pygments_lexer": "ipython3",
   "version": "3.11.2"
  },
  "rise": {
   "scroll": true
  },
  "toc": {
   "base_numbering": 1,
   "nav_menu": {},
   "number_sections": true,
   "sideBar": false,
   "skip_h1_title": false,
   "title_cell": "Table of Contents",
   "title_sidebar": "Contents",
   "toc_cell": false,
   "toc_position": {},
   "toc_section_display": true,
   "toc_window_display": false
  }
 },
 "nbformat": 4,
 "nbformat_minor": 2
}
